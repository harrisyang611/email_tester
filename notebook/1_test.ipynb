{
 "cells": [
  {
   "cell_type": "code",
   "execution_count": null,
   "metadata": {},
   "outputs": [],
   "source": []
  },
  {
   "cell_type": "code",
   "execution_count": null,
   "metadata": {},
   "outputs": [],
   "source": [
    "import smtplib\n",
    "from email.mime.text import MIMEText\n",
    "\n",
    "subject = \"Hello from Python\"\n",
    "body = \"Good Afternoon Jesus, I believe this will work. Please let me know if you receive this email.\"\n",
    "sender = \"harris.yang@maclear.ca\"\n",
    "recipients = [\"hadesyang14@gmail.com\"] #\"jesus.calderon@maclear.ca\"]\n",
    "password = \"vmyzfpjhsxjcfkje\"\n",
    "\n",
    "\n",
    "msg = MIMEText(body)\n",
    "msg['Subject'] = subject\n",
    "msg['From'] = sender\n",
    "with smtplib.SMTP_SSL('smtp.gmail.com', 465) as smtp_server:\n",
    "    smtp_server.login(sender, password)\n",
    "    smtp_server.sendmail(sender, recipients, msg.as_string())\n",
    "print(\"Message sent!\")"
   ]
  },
  {
   "cell_type": "code",
   "execution_count": null,
   "metadata": {},
   "outputs": [],
   "source": []
  }
 ],
 "metadata": {
  "language_info": {
   "name": "python"
  }
 },
 "nbformat": 4,
 "nbformat_minor": 2
}
